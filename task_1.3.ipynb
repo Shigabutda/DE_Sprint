{
 "cells": [
  {
   "cell_type": "markdown",
   "id": "79c0978a",
   "metadata": {},
   "source": [
    "**2. Палиндром строки**\n",
    "\n",
    "Дана строка X, возвращайте True, если X является палиндромом.\n",
    "\n",
    "Строка является палиндромом тогда, когда она читается одинаково как в обратном, так и в прямом направлении.\n",
    "\n",
    "Например, является “taco cat” является палиндромом, в то время как “black cat” не является.\n",
    "В данной задаче пробелы не учитываются.\n",
    "\n",
    "Гарантируется, что исходная строка может содержать символы только нижнего регистра.\n",
    "\n",
    "\n",
    "Пример 1:\n",
    "\n",
    "Ввод: x = “taco cat”\n",
    "\n",
    "Вывод: true\n",
    "\n",
    "Пояснение: “taco cat” читается, как “taco cat” слева направо так и справа налево.\n",
    "\n",
    "Пример 2:\n",
    "\n",
    "Ввод: x = “rotator”\n",
    "\n",
    "Вывод: true\n",
    "\n",
    "Пояснение: “rotator” читается, как “rotator” слева направо так и справа налево.\n",
    "\n",
    "Пример 3:\n",
    "\n",
    "Ввод: x = “black cat”\n",
    "\n",
    "Вывод: false\n",
    "\n",
    "Пояснение: слева направо она читается как “black cat” . Справа налево оно становится “tac kcalb”.\n",
    "\n",
    "Следовательно, это не палиндром.\n",
    "\n",
    "Для решения задачи рекомендуем познакомиться с функцией str.replace()\n",
    "\n"
   ]
  },
  {
   "cell_type": "code",
   "execution_count": 70,
   "id": "7858906c",
   "metadata": {},
   "outputs": [],
   "source": [
    "def palindrom(a):\n",
    "    return \"\".join(a.split(\" \"))[::-1] == \"\".join(a.split(\" \"))"
   ]
  },
  {
   "cell_type": "code",
   "execution_count": 71,
   "id": "9c13515f",
   "metadata": {},
   "outputs": [
    {
     "name": "stdout",
     "output_type": "stream",
     "text": [
      "tacocat\n"
     ]
    },
    {
     "data": {
      "text/plain": [
       "True"
      ]
     },
     "execution_count": 71,
     "metadata": {},
     "output_type": "execute_result"
    }
   ],
   "source": [
    "a = input()\n",
    "palindrom(a)"
   ]
  },
  {
   "cell_type": "markdown",
   "id": "f0add3a0",
   "metadata": {},
   "source": [
    "**3. Перевод арабского числа в римское**\n",
    "\n",
    "Дано целое положительное число X, необходимо вывести вариант этого числа в римской системе счисления в формате строки.\n",
    "\n",
    "\n",
    "\n",
    "Римские числа записываются от наибольшего числа к наименьшему слева направо.\n",
    "\n",
    "Однако число 4 не является “IIII”. Вместо этого число 4 записывается, как “IV”. Т.к. 1 стоит перед 5, мы вычитаем 1, делая 4. Тот же принцип применим к числу 9, которое записывается как “IX”.\n",
    "\n",
    "Случаи, когда используется вычитание:\n",
    "\n",
    "I может быть помещен перед V и X, чтобы сделать 4 и 9.\n",
    "\n",
    "X может быть помещен перед L и C, чтобы составить 40 и 90.\n",
    "\n",
    "C может быть помещен перед D и M, чтобы составить 400 и 900.\n",
    "\n",
    "\n",
    "Пример 1:\n",
    "\n",
    "Ввод: x = 3\n",
    "\n",
    "Вывод: “III”\n",
    "\n",
    "Пример 2:\n",
    "\n",
    "Ввод: x = 9\n",
    "\n",
    "Вывод: “IX”\n",
    "\n",
    "Пример 3:\n",
    "\n",
    "Ввод: x = 1945\n",
    "\n",
    "Вывод: “MCMXLV”\n",
    "\n",
    "Гарантируется, что введенное число X будет находиться в диапазоне от 1 до 2000\n",
    "\n"
   ]
  },
  {
   "cell_type": "code",
   "execution_count": 63,
   "id": "e2c39b8b",
   "metadata": {},
   "outputs": [],
   "source": [
    "def numb_0(a):\n",
    "    if a < 4:\n",
    "        b = 'I'*a\n",
    "    elif a == 5:\n",
    "        b = 'V'\n",
    "    elif a == 4:\n",
    "        b = 'IV'\n",
    "    elif (a > 5) and (a<9):\n",
    "        b = 'V+I*(a-5)'\n",
    "    elif a == 9:\n",
    "        b = 'IX'\n",
    "    else:\n",
    "        b = \"\"\n",
    "    return b\n",
    "def numb_1(a):\n",
    "    if a < 4:\n",
    "        b = 'X'*a\n",
    "    elif a == 5:\n",
    "        b = 'L'\n",
    "    elif a == 4:\n",
    "        b = 'XL'\n",
    "    elif (a > 5) and (a<9):\n",
    "        b = 'L+X*(a-5)'\n",
    "    elif a == 9:\n",
    "        b = 'XC'\n",
    "    else:\n",
    "        b = \"\"\n",
    "    return b      \n",
    "def numb_2(a):\n",
    "    if a < 4:\n",
    "        b = 'C'*a\n",
    "    elif a == 5:\n",
    "        b = 'D'\n",
    "    elif a == 4:\n",
    "        b = 'CD'\n",
    "    elif (a > 5) and (a<9):\n",
    "        b = 'D+C*(a-5)'\n",
    "    elif a == 9:\n",
    "        b = 'CM'\n",
    "    else:\n",
    "        b = \"\"\n",
    "    return b \n",
    "def numb_3(a):\n",
    "    if a != 0:\n",
    "        b = 'M'*a\n",
    "    else:\n",
    "        b = \"\"\n",
    "    return b \n",
    "def roman_number(a):\n",
    "    list_a = list(str(a))[::-1]\n",
    "    \n",
    "    for index in range(len(list_a)):\n",
    "        if index == 0:\n",
    "            list_a[index] = numb_0(int(list_a[index]))\n",
    "        if index == 1:\n",
    "            list_a[index] = numb_1(int(list_a[index]))\n",
    "        if index == 2:\n",
    "            list_a[index] = numb_2(int(list_a[index]))\n",
    "        if index == 3:\n",
    "            list_a[index] = numb_3(int(list_a[index]))\n",
    "            \n",
    "    return \"\".join(list_a[::-1])"
   ]
  },
  {
   "cell_type": "code",
   "execution_count": 67,
   "id": "4c5f63d5",
   "metadata": {},
   "outputs": [
    {
     "name": "stdout",
     "output_type": "stream",
     "text": [
      "51\n"
     ]
    },
    {
     "data": {
      "text/plain": [
       "'LI'"
      ]
     },
     "execution_count": 67,
     "metadata": {},
     "output_type": "execute_result"
    }
   ],
   "source": [
    "a = input()\n",
    "roman_number(a)"
   ]
  },
  {
   "cell_type": "markdown",
   "id": "43b81992",
   "metadata": {},
   "source": [
    "**4. Валидность скобок**\n",
    "\n",
    "Дана строка X, состоящая только из символов “{“, “}”, “[“, “]”, “(“, “)”. Программа должна вывести True, в том случае если все открытые скобки закрыты. Например: “[()]{}”, все открытые скобки закрыты закрывающимися скобками, потому вывод будет True. В случае же, если строка будет похожа на: “{{{}”, то вывод будет False, т.к. не все открытые скобки закрыты.\n",
    "\n",
    "\n",
    "Пример 1:\n",
    "\n",
    "Ввод: x = “[{}({})]”\n",
    "\n",
    "Вывод: True\n",
    "\n",
    "Пример 2:\n",
    "\n",
    "Ввод: x = “{]”\n",
    "\n",
    "Вывод: False\n",
    "\n",
    "Пример 3:\n",
    "\n",
    "Ввод: x = “{“\n",
    "\n",
    "Вывод: False\n",
    "\n",
    "Гарантируется, что введенная строка X будет содержать только скобки и не будет пустой."
   ]
  },
  {
   "cell_type": "code",
   "execution_count": 161,
   "id": "1cd744bd",
   "metadata": {},
   "outputs": [],
   "source": [
    "def bracket(a):\n",
    "    dict_bracket ={'{':0, '}':0, '[':0, ']':0, '(':0, ')':0}\n",
    "    dict_bracket_max ={'{':0, '}':0, '[':0, ']':0, '(':0, ')':0}\n",
    "    \n",
    "    list_a = list(a)\n",
    "    for i in range(len(list_a)):\n",
    "        dict_bracket[list_b[i]] += 1\n",
    "    if (\n",
    "        (dict_bracket['{'] != dict_bracket['}']) or\n",
    "        (dict_bracket['['] != dict_bracket[']']) or\n",
    "        (dict_bracket['('] != dict_bracket[')'])\n",
    "        ):\n",
    "        return False # проверил равенство всех скобок, если хоть одно условие выполняет, выводим False\n",
    "    else: #проверю порядок индексов каждой скобки, определю максимальные индексы для каждого элемента и сравню их\n",
    "        for key in list(dict_bracket.keys()):\n",
    "            if dict_bracket[key] >0:\n",
    "                for index in range(len(list_a)):                \n",
    "                    if list_a[index] == key:\n",
    "                        dict_bracket_max[key] = index # т.к. идет по порядку то встанет последний индекс, пара идет в словарь\n",
    "                    else:\n",
    "                        continue\n",
    "            else:\n",
    "                continue\n",
    "        if dict_bracket_max['{'] > dict_bracket_max['}']:\n",
    "            return False\n",
    "        elif dict_bracket_max['['] > dict_bracket_max[']']:\n",
    "            return False\n",
    "        elif dict_bracket_max['('] > dict_bracket_max[')']:\n",
    "            return False        \n",
    "        else:\n",
    "            return True\n",
    "        \n",
    "    "
   ]
  },
  {
   "cell_type": "code",
   "execution_count": 166,
   "id": "36b71079",
   "metadata": {},
   "outputs": [
    {
     "data": {
      "text/plain": [
       "False"
      ]
     },
     "execution_count": 166,
     "metadata": {},
     "output_type": "execute_result"
    }
   ],
   "source": [
    "a = '{]'\n",
    "bracket(a)"
   ]
  },
  {
   "cell_type": "markdown",
   "id": "996de5ff",
   "metadata": {},
   "source": [
    "**5. Умножить два бинарных числа в формате строк**\n",
    "\n",
    "На вход подаются две строки X1 и X2, содержащие бинарные числа.\n",
    "\n",
    "Необходимо вывести их бинарное произведение в формате строки.\n",
    "\n",
    "\n",
    "Пример 1:\n",
    "\n",
    "Ввод: x1 = ‘’111” и x2= “101”\n",
    "\n",
    "Вывод: “100011”\n",
    "\n",
    "Пояснение: “111” - это 7; “101” - это 5; 7*5 = 35; 35 в двоичной системе 100011\n",
    "\n",
    "Гарантируется, что введенная строка X будет содержать только числа 1 и 0."
   ]
  },
  {
   "cell_type": "code",
   "execution_count": 172,
   "id": "b03fafb1",
   "metadata": {},
   "outputs": [
    {
     "name": "stdout",
     "output_type": "stream",
     "text": [
      "111\n",
      "101\n"
     ]
    },
    {
     "data": {
      "text/plain": [
       "100011"
      ]
     },
     "execution_count": 172,
     "metadata": {},
     "output_type": "execute_result"
    }
   ],
   "source": [
    "a = input()\n",
    "b = input()\n",
    "def multi_bi(a, b):\n",
    "    binum = bin(int(a, base=2)*int(b, base=2))\n",
    "    return int(binum[2:])\n",
    "multi_bi(a, b)"
   ]
  },
  {
   "cell_type": "code",
   "execution_count": null,
   "id": "5dc6008d",
   "metadata": {},
   "outputs": [],
   "source": []
  }
 ],
 "metadata": {
  "kernelspec": {
   "display_name": "Python 3 (ipykernel)",
   "language": "python",
   "name": "python3"
  },
  "language_info": {
   "codemirror_mode": {
    "name": "ipython",
    "version": 3
   },
   "file_extension": ".py",
   "mimetype": "text/x-python",
   "name": "python",
   "nbconvert_exporter": "python",
   "pygments_lexer": "ipython3",
   "version": "3.9.12"
  }
 },
 "nbformat": 4,
 "nbformat_minor": 5
}
