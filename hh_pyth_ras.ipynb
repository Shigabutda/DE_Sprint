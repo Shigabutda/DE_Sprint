{
 "cells": [
  {
   "cell_type": "code",
   "execution_count": 5,
   "id": "c8476bec",
   "metadata": {},
   "outputs": [
    {
     "name": "stdout",
     "output_type": "stream",
     "text": [
      "Collecting fake_useragent\n",
      "  Downloading fake-useragent-0.1.11.tar.gz (13 kB)\n",
      "Building wheels for collected packages: fake-useragent\n",
      "  Building wheel for fake-useragent (setup.py) ... \u001b[?25ldone\n",
      "\u001b[?25h  Created wheel for fake-useragent: filename=fake_useragent-0.1.11-py3-none-any.whl size=13502 sha256=c791ab0b49840714ec890353beb7a5508e57bbfffffbe136f5bebfdffeb3b991\n",
      "  Stored in directory: /home/valeria/.cache/pip/wheels/ae/e7/76/7dd44644d065268ab0e1b4fa2e802fa4bb0157717b7d6c6d92\n",
      "Successfully built fake-useragent\n",
      "Installing collected packages: fake-useragent\n",
      "Successfully installed fake-useragent-0.1.11\n"
     ]
    }
   ],
   "source": [
    "!pip install fake_useragent"
   ]
  },
  {
   "cell_type": "code",
   "execution_count": 25,
   "id": "839157b4",
   "metadata": {},
   "outputs": [],
   "source": [
    "from bs4 import BeautifulSoup\n",
    "import json\n",
    "import tqdm \n",
    "import time\n",
    "import random\n",
    "import requests as req\n",
    "from fake_useragent import UserAgent"
   ]
  },
  {
   "cell_type": "code",
   "execution_count": 26,
   "id": "7fcd6c4c",
   "metadata": {},
   "outputs": [],
   "source": [
    "data = {\n",
    "    \"data\":[]\n",
    "}"
   ]
  },
  {
   "cell_type": "code",
   "execution_count": 34,
   "id": "f3b9fc2c",
   "metadata": {},
   "outputs": [
    {
     "name": "stderr",
     "output_type": "stream",
     "text": [
      "100%|██████████| 20/20 [01:00<00:00,  3.01s/it]\n",
      "100%|██████████| 20/20 [01:18<00:00,  3.92s/it]\n",
      "100%|██████████| 20/20 [01:14<00:00,  3.70s/it]\n",
      "100%|██████████| 20/20 [01:15<00:00,  3.77s/it]\n",
      "100%|██████████| 20/20 [01:10<00:00,  3.54s/it]\n",
      "100%|██████████| 20/20 [01:00<00:00,  3.01s/it]\n",
      "100%|██████████| 20/20 [01:10<00:00,  3.54s/it]\n",
      "100%|██████████| 20/20 [01:10<00:00,  3.52s/it]\n",
      "100%|██████████| 20/20 [01:22<00:00,  4.14s/it]\n",
      "100%|██████████| 20/20 [01:08<00:00,  3.44s/it]\n",
      "100%|██████████| 20/20 [01:11<00:00,  3.56s/it]\n",
      "100%|██████████| 20/20 [01:10<00:00,  3.53s/it]\n",
      "100%|██████████| 20/20 [01:16<00:00,  3.84s/it]\n",
      "100%|██████████| 20/20 [01:20<00:00,  4.03s/it]\n",
      "0it [00:00, ?it/s]\n"
     ]
    }
   ],
   "source": [
    "for page in range(1,16):\n",
    "    url = f\"https://tyumen.hh.ru/search/vacancy?no_magic=true&L_save_area=true&text=python+разработчик&search_field=name&area=113&salary=&currency_code=RUR&experience=doesNotMatter&order_by=relevance&search_period=0&items_on_page=50&page={page}&hhtmFrom=vacancy_search_list\"\n",
    "    resp = req.get(url, headers={'User-Agent': UserAgent().chrome})\n",
    "\n",
    "    soup = BeautifulSoup(resp.text, \"lxml\")\n",
    "    tags = soup.find_all(attrs={'data-qa':'serp-item__title'})\n",
    "    for iter in tqdm.tqdm(tags):\n",
    "        time.sleep(random.randint(1, 4))\n",
    "        #print(iter.text, iter.attrs['href'])\n",
    "\n",
    "        url_object = iter.attrs['href']\n",
    "        resp_object = req.get(url_object, headers={'User-Agent': UserAgent().chrome})\n",
    "\n",
    "        soup_object = BeautifulSoup(resp_object.text, \"lxml\")\n",
    "        tag_price = soup_object.find(attrs={'data-qa':'vacancy-salary'}).text\n",
    "        #print(iter.text, tag_price)\n",
    "        try:\n",
    "            tag_region = soup_object.find(attrs={'data-qa':'vacancy-view-location'}).text\n",
    "        except:\n",
    "            tag_region = soup_object.find(attrs={'data-qa':'vacancy-view-link-location'}).find(attrs={'data-qa':'vacancy-view-raw-address'}).text\n",
    "                    \n",
    "        tag_experience = soup_object.find(attrs={'data-qa':'vacancy-experience'}).text\n",
    "\n",
    "        data[\"data\"].append({\"Title\":iter.text, \"work_experience\":tag_experience, \"salary\":tag_price, 'region':tag_region})\n",
    "        #print(iter.text, tag_price, tag_region)\n",
    "\n",
    "    with open('data.json', 'w') as file:\n",
    "        json.dump(data,file, ensure_ascii=False)"
   ]
  },
  {
   "cell_type": "code",
   "execution_count": null,
   "id": "6a5e75a2",
   "metadata": {},
   "outputs": [],
   "source": []
  }
 ],
 "metadata": {
  "kernelspec": {
   "display_name": "Python 3 (ipykernel)",
   "language": "python",
   "name": "python3"
  },
  "language_info": {
   "codemirror_mode": {
    "name": "ipython",
    "version": 3
   },
   "file_extension": ".py",
   "mimetype": "text/x-python",
   "name": "python",
   "nbconvert_exporter": "python",
   "pygments_lexer": "ipython3",
   "version": "3.9.12"
  }
 },
 "nbformat": 4,
 "nbformat_minor": 5
}
